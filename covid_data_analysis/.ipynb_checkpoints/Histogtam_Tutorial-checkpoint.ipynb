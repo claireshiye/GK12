{
 "cells": [
  {
   "cell_type": "markdown",
   "metadata": {},
   "source": [
    "# Introduction\n",
    "\n",
    "As the COVID-19 pandemic is still ravaging the world, everyone is trying to stay at home as often as possible to avoid getting infected or infect other people. It is important, therefore, to understand what the COVID-19 data looks like and how to interpret the various data such as daily changes and total cases. Most of these data are shown clearly in what is called **histograms** or **bar charts**. In this tutorial, you will be introduced to what is a histogram or bar chart, why a histogram or bar chart is useful and how to use them. \n",
    "\n",
    "We will be using the computational programming language _**Python**_ to draw histograms or bar charts. Don't worry, you don't need to know Python in advance, this tutorial will also introduce you to simple Python programming.\n",
    "\n",
    "At the end of the tutorial, you will be able to use real data to plot your own COVID-19 cases for your selected counties, states or across the US."
   ]
  },
  {
   "cell_type": "markdown",
   "metadata": {},
   "source": [
    "## What is a Histogram or Bar Chart?\n",
    "\n",
    "Simply speaking, a histogram shows how a sample of number distributes.\n",
    "\n",
    "For example, below is a figure of a histogram showing different frequencies for different arrival times of some event. From the figure, it is very easily seen that most of people arrive at around 4 mins since the reception started.   \n",
    "\n",
    "<img src=\"histogram_data/hist_sample.png\" alt=\"Hist example from Wikipedia\" width=\"300\"/>\n",
    "\n",
    "Bar charts look similar to histograms but are different. The differences are that bar charts have spaces between the bins and bar charts usually are used to visualize <font color='darkorange'>_**seperate**_</font> catagories such as countries, colors, names etc. Below is an example.\n",
    "\n",
    "<img src=\"histogram_data/barchart_sample.png\" alt=\"Bar example from Wikipedia\" width=\"300\"/>\n",
    "\n",
    "A set of data can be shown in both histograms and bar charts, and they highlight different aspects of the data. Bar charts hightlight the differences between different bins representing different catagories, but do not show the general distributions of the data. Histograms highlight the distribution of the data but hide the catagory infomation so it is hard to tell which bin corresponds to which catagory.\n",
    "\n",
    "Both bar charts and histograms are very useful in visualizing otherwise entangled data. In the following examples and practice, you will see more clearly how to use them and their differences."
   ]
  },
  {
   "cell_type": "markdown",
   "metadata": {},
   "source": [
    "### Example 1: Who likes to watch Demon Slayer?\n",
    "<img src=\"histogram_data/Demon-Slayer.jpg\" alt=\"example1\" width=\"500\"/>\n",
    "\n",
    "Imagine you have a sample of different ages of people answering to your survey on if they like to watch _Demon Slayer_. What is the fastest and clearest way to show the data you have on which age group of people likes to watch Demon Slayer the most?\n",
    "\n",
    "Since we are talking about histogram in this tutorial, you may guess **histogram**! That's right. Now let's try plottig the data in a histogram.\n",
    "\n",
    "In Python, first we need to import the necessary modules and data for the plotting.\n",
    "\n",
    "<font color='blue'> Select the cell below (click the cell once and see that your cursor is flashing in the cell) and click Run on top of the page. </font> That will tell this notebook to import the modules and get the data. <font color='darkorange'>_Do the same for every cell with In [No.] at the front_.</font> All the cells need to be run at least once to make sure that the following cells can run.\n",
    "\n",
    "Data is from  [Here](https://otakuusamagazine.com/survey-demon-slayer-kimetsu-no-yaiba-popular/)"
   ]
  },
  {
   "cell_type": "code",
   "execution_count": null,
   "metadata": {},
   "outputs": [],
   "source": [
    "import matplotlib\n",
    "import matplotlib.pyplot as plt\n",
    "\n",
    "##Different ages of men answering to the survey\n",
    "sample_m = [25, 30, 17, 59, 45, 26, 16, 40, 24, 45, 10, 39, 22, 18, 58, 43, 52, 45, \n",
    "            18, 48, 23, 67, 29, 27, 10, 12, 59, 32, 26, 20, 43, 53, 38, 19, 40, 44, \n",
    "            51, 17, 58, 49, 13, 31, 38, 47, 46, 15, 48, 19, 28, 32, 46, 15, 28, 29, \n",
    "            32, 12, 26, 27, 13, 23, 31, 13, 12, 35, 34, 45, 18, 20, 16, 29, 30, 41,\n",
    "            13, 59, 13, 31, 53, 19, 40, 26, 26, 55, 56, 47, 37, 48, 28, 10, 54, 18, \n",
    "            30, 29, 33, 42, 12, 32, 33, 44, 37]\n",
    "\n",
    "##Different ages of women answering to the survey\n",
    "sample_f = [11, 45, 44, 37, 27, 41, 23, 54, 43, 21, 49, 24, 52, 22, 12, 16, 42, 15, 11, \n",
    "            12, 41, 15, 18, 26, 12, 34, 27, 18, 20, 19, 37, 31, 40, 43, 30, 25, 37, 13, \n",
    "            47, 34, 40, 38, 51, 48, 41, 34, 21, 22, 35, 47, 13, 34, 22, 45, 42, 27, 42, \n",
    "            44, 10, 36, 39, 33, 23, 32, 25, 62, 21, 18, 18, 40, 22, 68, 24, 13, 56, 42, \n",
    "            21, 33, 24, 53, 26, 10, 30, 16, 26, 19, 37, 51, 13, 18, 30, 29, 14, 12, 45, \n",
    "            48, 35, 43, 44, 37, 14, 45, 47, 40, 35, 23, 42, 43, 35, 18, 15, 28, 34, 16, \n",
    "            47, 32, 16, 43, 28, 26, 45, 21, 18, 25, 30, 32, 28, 12, 27, 11, 10, 47, 43, \n",
    "            32, 13, 17, 14, 40, 53, 11, 52, 22, 19, 10, 25, 43, 41, 22, 46, 43, 56, 29, \n",
    "            16, 15, 42, 18, 13, 41, 40, 26, 18, 19, 47, 58, 44, 31, 54, 49, 16, 34, 23, \n",
    "            59, 12, 47, 53, 48, 40, 50, 16, 40, 47, 48, 26, 15, 48, 53, 14, 12, 20, 51, \n",
    "            33, 42, 16, 52, 12, 10, 40, 36, 10, 54, 14, 13, 15, 59, 38, 33, 18, 40, 44, \n",
    "            31, 36, 28, 11, 32, 37, 23, 27]\n",
    "\n",
    "##Different ages of both men and women answering the survey\n",
    "sample_all = sample_m+sample_f"
   ]
  },
  {
   "cell_type": "markdown",
   "metadata": {},
   "source": [
    "Now we have the modules and the data ready, we can make a histogram. Although the data is very long, it actually just takes one command to plot the histogram. <font color='blue'>Read carefully and Run the cell below.</font> Note that the plotting command of histogram takes only one input data set for the x-asix. **plt.hist()** is for plotting the histogram\n",
    "\n",
    "**Q: Which age range of people likes to watch Demon Slayer the most?** Write down your answer at the answer sheet."
   ]
  },
  {
   "cell_type": "code",
   "execution_count": null,
   "metadata": {},
   "outputs": [],
   "source": [
    "##plt.hist() is for plotting the histogram\n",
    "##This is the main plotting command.\n",
    "plt.hist(sample_all)\n",
    "\n",
    "\n",
    "##Setting x- and y-axes labels and the title\n",
    "plt.xlabel('Ages')\n",
    "plt.ylabel('Number of people')\n",
    "plt.title('Ages for all people')"
   ]
  },
  {
   "cell_type": "markdown",
   "metadata": {},
   "source": [
    "Now let's try plotting the ages for men and women seperately. We will make below two subplots of a same figure.\n",
    "\n",
    "The first command **fig, axs = plt.subplots(ncols=2)** sets up the blank figure and the two subplots. ncols=2 means there will be two columns of blank square spaces (subplots) for you to plot the histogrms.\n",
    "\n",
    "Similar to the command **plt.hist()** above, **axs[0].hist()** tells Python to make the first histogram in the first (left) subplot. And **axs[1].hist()** makes the histogram in the second (right) subplot.\n",
    "\n",
    "Here color='the color you choose' gives the histogram different colors. For all colors you can use see here [link to colors](https://matplotlib.org/3.1.0/gallery/color/named_colors.html)\n",
    "\n",
    "<font color='blue'> **Read carefully and Run the cell below** </font>. \n",
    "\n",
    "**Q: Which age ranges of men/women like to watch Demon Slayer the most?** Write down your answer at the answer sheet."
   ]
  },
  {
   "cell_type": "code",
   "execution_count": null,
   "metadata": {},
   "outputs": [],
   "source": [
    "fig, axs = plt.subplots(ncols=2, figsize=(14, 5))\n",
    "\n",
    "\n",
    "##Similar to plt.hist(), These are the main plotting commands\n",
    "axs[0].hist(sample_m, color='blue')\n",
    "axs[1].hist(sample_f, color='orange')\n",
    "\n",
    "\n",
    "##Setting x- and y-axes labels and the title\n",
    "axs[0].set_xlabel('Ages')\n",
    "axs[1].set_xlabel('Ages')\n",
    "axs[0].set_ylabel('Numbers')\n",
    "axs[1].set_ylabel('Numbers')\n",
    "axs[0].set_title('Ages for men')\n",
    "axs[1].set_title('Ages for women')"
   ]
  },
  {
   "cell_type": "markdown",
   "metadata": {},
   "source": [
    "### Practice 1: Use the data provided below and make a histogram\n",
    "The following data was taken from the city of Chicago data portal [Chicago data portal](https://data.cityofchicago.org/Education/Chicago-Public-Schools-School-Progress-Reports-SY1/dw27-rash). The college enrollment rates of Chicago public schools in 2018-2019 were extracted. Note that only about 25% of schools have college enrollment rate data, so the data is far from complete.\n",
    "\n",
    "In this practice, fill in the plot command between ########### and make a histogram using the provided data _CE1819_. Use 'turquoise' as the color. The function you will need is **plt.hist()**.\n",
    "\n",
    "**Screenshot your histogram and copy/paste it to your answer sheet.**"
   ]
  },
  {
   "cell_type": "code",
   "execution_count": 1,
   "metadata": {},
   "outputs": [
    {
     "ename": "SyntaxError",
     "evalue": "invalid syntax (<ipython-input-1-40a770c91b4b>, line 3)",
     "output_type": "error",
     "traceback": [
      "\u001b[0;36m  File \u001b[0;32m\"<ipython-input-1-40a770c91b4b>\"\u001b[0;36m, line \u001b[0;32m3\u001b[0m\n\u001b[0;31m    pandas version\u001b[0m\n\u001b[0m                 ^\u001b[0m\n\u001b[0;31mSyntaxError\u001b[0m\u001b[0;31m:\u001b[0m invalid syntax\n"
     ]
    }
   ],
   "source": [
    "##Import modules and data\n",
    "import pandas as pd\n",
    "pd.__version__\n",
    "import numpy as np\n",
    "import matplotlib\n",
    "import matplotlib.pyplot as plt\n",
    "\n",
    "data_CPS = pd.read_csv('histogram_data/CPS_Progress_Reports_1819.csv')\n",
    "CE2 = data_CPS['College_Enrollment_School_Pct_Year_2'].dropna()\n",
    "CE1 = data_CPS['College_Enrollment_School_Pct_Year_1'].dropna()\n",
    "CE1819 = np.array(pd.concat([CE1, CE2], axis=0)) \n",
    "\n",
    "\n",
    "#########################\n",
    "##Add your ploting command here. \n",
    "##Remove nameofdata and nameofcolor and fill in the correct names.\n",
    "plt.hist(nameofdata, color='nameofcolor')\n",
    "\n",
    "########################\n",
    "\n",
    "\n",
    "plt.title('College Enrollment Percentages')\n",
    "plt.xlabel('Percentage')\n",
    "plt.ylabel('Numbers of school')"
   ]
  },
  {
   "cell_type": "markdown",
   "metadata": {},
   "source": [
    "### Example 2: Which is the most popular Harry Potter book?\n",
    "<img src=\"histogram_data/hp.jpg\" alt=\"example1\" width=\"400\"/>\n",
    "\n",
    "Now let's try making a bar chart for the revenue share for the seven harry potter books since the release of _Harry Potter and the Cursed Child_. \n",
    "\n",
    "**Q: Which book has the biggest share of revenue?**"
   ]
  },
  {
   "cell_type": "markdown",
   "metadata": {},
   "source": [
    "As before, let's import the data of the book sell first. <font color='blue'> **Select and run the cell below.** </font>\n",
    "\n",
    "Data is from [Here](https://www.rakutenintelligence.com/blog/2016/newest-harry-potter-installment-spells-success-entire-franchise)"
   ]
  },
  {
   "cell_type": "code",
   "execution_count": null,
   "metadata": {},
   "outputs": [],
   "source": [
    "grosses = [27, 12.3, 18.9, 7.7, 9.5, 7.4, 17.1]\n",
    "book_name = [\"the Sorcerer's Stone\", \"the Camber of Secrets\", \"the Prisoner of Azkaban\",\n",
    "             \"the Goblet of Fire\", \"the Order of the Phoenix\", \"the Half-Blood Prince\", \"the Deathly Hollows\"]"
   ]
  },
  {
   "cell_type": "markdown",
   "metadata": {},
   "source": [
    "In this example, we will plot the bars with different colors using Python [colormaps](https://matplotlib.org/tutorials/colors/colormaps.html). The main plotting command is **plt.bar()**. You can try changing the current colormap \"jet\" to a different one from the link and see how the colors change. **Note that plt.bar() takes in two input values for both x and y axes instead of just one in the plt.hist() case.**\n",
    "\n",
    "<font color='blue'> Read the codes carefully, and select and run the cell below. </font>"
   ]
  },
  {
   "cell_type": "code",
   "execution_count": null,
   "metadata": {},
   "outputs": [],
   "source": [
    "##Import modules and data\n",
    "import numpy as np\n",
    "import matplotlib\n",
    "import matplotlib.pyplot as plt\n",
    "import matplotlib.cm as cm   ##This and the next import command import modules related to plot colors\n",
    "from matplotlib.colors import Normalize\n",
    "\n",
    "\n",
    "N = 7    ##N means we are going to plot N bars. In this caswe, 7 for 7 books.\n",
    "ind = np.arange(N)   # generate the x locations for the groups\n",
    "\n",
    "\n",
    "##Start plotting\n",
    "##Similar to fig, axs = plt.subplots(ncols=2), this command sets up a single blank figure.\n",
    "plt.figure(figsize=(8, 6))\n",
    "\n",
    "\n",
    "##Generate different colors for each bar\n",
    "##\"jet\" is the name of a colormap. There are many other colormaps.\n",
    "my_cmap = cm.get_cmap('jet')\n",
    "my_norm = Normalize(vmin=0, vmax=N)\n",
    "\n",
    "\n",
    "\n",
    "##Main command for plotting the bar chart\n",
    "##ind marks the locations on the x axis to plot the bars. \n",
    "##grosses is the dataset from the last cell, and tells the share of revenue for all the books. \n",
    "##color is used to set the colors for the bars\n",
    "\n",
    "plt.bar(ind, grosses, color=my_cmap(my_norm(ind)), align='edge')\n",
    "\n",
    "\n",
    "\n",
    "##Set titles and labels\n",
    "plt.ylabel('Share of Revenue', fontsize=15)\n",
    "plt.title('Most popular Harry Potter books online', fontsize=20)\n",
    "plt.xticks(ind, book_name, rotation=60, fontsize=10);\n"
   ]
  },
  {
   "cell_type": "markdown",
   "metadata": {},
   "source": [
    "### Practice 2: Use the data provided below and make a bar chart\n",
    "The following data was taken from the city of Chicago data portal [Chicago data portal](https://data.cityofchicago.org/Health-Human-Services/Census-Data-Selected-socioeconomic-indicators-in-C/kn9c-c2s2). The percent of the population under 18 or over 64 years of age (i.e., dependency) from 2008 to 2012 was extracted.\n",
    "\n",
    "In this practice, make a bar chart using the provided data _dep0812_. Use 'Spectral' for the colormap. The function you will need is **plt.bar()**. Fill in the command between ##############.\n",
    "\n",
    "**Screenshot your bar chart and copy/paste it to your answer sheet.**"
   ]
  },
  {
   "cell_type": "code",
   "execution_count": null,
   "metadata": {},
   "outputs": [],
   "source": [
    "##Import modules and data\n",
    "import pandas as pd\n",
    "import numpy as np\n",
    "import matplotlib\n",
    "import matplotlib.pyplot as plt\n",
    "import matplotlib.cm as cm   ##This and the next import command import modules related to plot colors\n",
    "from matplotlib.colors import Normalize\n",
    "\n",
    "data_se = pd.read_csv('histogram_data/socioeconomic_indicators_in_Chicago_0812.csv')\n",
    "dep0812 = list(data_se['PERCENT AGED UNDER 18 OR OVER 64'].dropna())\n",
    "area_name = list(data_se['COMMUNITY AREA NAME'].dropna())\n",
    "\n",
    "\n",
    "N = 78    ##N means we are going to plot N bars.\n",
    "ind = np.arange(N)   # generate the x locations for the groups\n",
    "\n",
    "\n",
    "##Start plotting\n",
    "plt.figure(figsize=(18, 6))\n",
    "##Similar to fig, axs = plt.subplots(ncols=2), this command sets up a single blank figure.\n",
    "\n",
    "\n",
    "\n",
    "###################################################\n",
    "##Choose your colormap here\n",
    "##Generate different colors for each bar\n",
    "##Replace nameofcolormap with the colormap of your choice\n",
    "\n",
    "my_cmap = cm.get_cmap('nameofcolormap')\n",
    "my_norm = Normalize(vmin=0, vmax=N)\n",
    "\n",
    "\n",
    "###################################################\n",
    "##Main command for plotting the bar chart. \n",
    "##Fill in your ploting command here\n",
    "##Remove nameofdata and fill in the correct name.\n",
    "\n",
    "plt.bar(ind, nameofdata, color=my_cmap(my_norm(ind)), align='center')\n",
    "\n",
    "\n",
    "###################################################\n",
    "\n",
    "\n",
    "##Set titles and labels\n",
    "plt.ylabel('Percent', fontsize=20)\n",
    "plt.title('Percent of the population under 18 or over 64 years of age', fontsize=20)\n",
    "plt.xticks(ind, area_name, rotation=85);\n"
   ]
  },
  {
   "cell_type": "markdown",
   "metadata": {},
   "source": [
    "# Summary\n",
    "\n",
    "Congratualations! You have finished the histogram/bar chart tutorial!\n",
    "\n",
    "Now that you know what are histograms/bar charts and how to make them, you are ready to explore the real world with real data using what you have just learned.\n",
    "\n",
    "Next, we will use both bar charts and histograms to plot COVID-19 related data. You can use these plots to check the new cases in your home state or county and also other states and counties. Close this page and go back to the Home page and open file COVID-19_cases_histogram.ipynb"
   ]
  }
 ],
 "metadata": {
  "kernelspec": {
   "display_name": "Python 3",
   "language": "python",
   "name": "python3"
  },
  "language_info": {
   "codemirror_mode": {
    "name": "ipython",
    "version": 3
   },
   "file_extension": ".py",
   "mimetype": "text/x-python",
   "name": "python",
   "nbconvert_exporter": "python",
   "pygments_lexer": "ipython3",
   "version": "3.7.3"
  }
 },
 "nbformat": 4,
 "nbformat_minor": 2
}
