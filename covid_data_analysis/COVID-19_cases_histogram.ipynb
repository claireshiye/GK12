{
 "cells": [
  {
   "cell_type": "markdown",
   "metadata": {},
   "source": [
    "# Let's start plotting!\n",
    "\n",
    "### First step, import modules and extract data\n",
    "\n",
    "### Remember to select each cell with \"In []\" in the front and run it before you run the next cell\n",
    "\n",
    "(You don't need to enter anything for the first cell, just need to run it.)\n",
    "\n",
    "_All COVID data are extracted from USAFACTS('https://usafacts.org/visualizations/coronavirus-covid-19-spread-map/')_"
   ]
  },
  {
   "cell_type": "code",
   "execution_count": null,
   "metadata": {},
   "outputs": [],
   "source": [
    "###Import all the necessary modules here\n",
    "\n",
    "import numpy as np\n",
    "import pandas as pd\n",
    "import matplotlib\n",
    "import matplotlib.pyplot as plt\n",
    "import matplotlib.cm as cm   ##This and the next import command import modules related to plot colors\n",
    "from matplotlib.colors import Normalize\n",
    "import six\n",
    "from six.moves.urllib import request\n",
    "\n",
    "%matplotlib inline\n",
    "\n",
    "\n",
    "\n",
    "\n",
    "### Extract COVID-19 data from USAFACTS('https://usafacts.org/visualizations/coronavirus-covid-19-spread-map/') \n",
    "##and read the data into this notebook.\n",
    "url_confirm = 'https://usafactsstatic.blob.core.windows.net/public/data/covid-19/covid_confirmed_usafacts.csv'\n",
    "open('histogram_data/covid_confirmed.csv', 'wb').write(request.urlopen(url_confirm).read())\n",
    "url_death = 'https://usafactsstatic.blob.core.windows.net/public/data/covid-19/covid_deaths_usafacts.csv'\n",
    "open('histogram_data/covid_deaths.csv', 'wb').write(request.urlopen(url_death).read())\n",
    "\n",
    "df_confirm = pd.read_csv('histogram_data/covid_confirmed.csv').drop(['countyFIPS', 'stateFIPS'], axis = 1) \n",
    "df_death = pd.read_csv('histogram_data/covid_deaths.csv').drop(['countyFIPS', 'stateFIPS'], axis = 1) \n",
    "\n",
    "\n",
    "\n",
    "\n",
    "###Data analysis to seperate data for different states and counties\n",
    "##Get the sum for everyday data for the state of choice\n",
    "def get_state(which_state):    \n",
    "    df_state_confirm = df_confirm.groupby(['State']).sum()\n",
    "    df_state_death = df_death.groupby(['State']).sum()\n",
    "    \n",
    "    state_confirm = df_state_confirm.loc[which_state]\n",
    "    state_death = df_state_death.loc[which_state]\n",
    "    \n",
    "    return state_confirm, state_death\n",
    "\n",
    "\n",
    "##Get the everyday data for the county of choice in the state of choice\n",
    "def get_county(which_county, which_state):\n",
    "    county_confirm = df_confirm.loc[(df_confirm['State'] == which_state) & (df_confirm['County Name'] == which_county)]\n",
    "    county_death = df_death.loc[(df_death['State'] == which_state) & (df_death['County Name'] == which_county)]\n",
    "    \n",
    "    county_confirm = county_confirm.drop(['County Name', 'State'], axis = 1).iloc[0]\n",
    "    county_death = county_death.drop(['County Name', 'State'], axis = 1).iloc[0]\n",
    "    \n",
    "    return county_confirm, county_death\n",
    "\n",
    "\n",
    "##Get the total for all states\n",
    "def get_allstates():\n",
    "    us_confirm =  df_confirm.sum()\n",
    "    us_death = df_death.sum()\n",
    "    \n",
    "    return us_confirm, us_death\n",
    "\n",
    "\n",
    "##Get the total cases for all states\n",
    "def get_case_distribution():\n",
    "    df_state_confirm = df_confirm.groupby(['State']).sum()\n",
    "    df_state_death = df_death.groupby(['State']).sum()\n",
    "    \n",
    "    all_state_confirm = df_state_confirm.sum(axis=1)\n",
    "    all_state_death = df_state_death.sum(axis=1)\n",
    "    \n",
    "    print(type(all_state_confirm))\n",
    "    \n",
    "    return all_state_confirm, all_state_death"
   ]
  },
  {
   "cell_type": "markdown",
   "metadata": {},
   "source": [
    "### The cell above imported the necessary modules, imported the COVID-19 data from the website and created functions for data analysis. \n",
    "\n",
    "### Second step, below we will start to make histograms and bar charts to show the data. <font color='darkorange'>_**You will need to enter the main plot command for each plot and the state and the county of your choice.**_</font>"
   ]
  },
  {
   "cell_type": "markdown",
   "metadata": {},
   "source": [
    "### Plot One: Make a bar chart of the total cases per day in a state of your choice\n",
    "Screenshot your plot and copy/paste it to your answer sheet.\n",
    "\n",
    "<font color='blue'>Run the following cell and enter the abbrev. of the state of your choice. Press Enter/Return after you put in the abbrev.</font>"
   ]
  },
  {
   "cell_type": "code",
   "execution_count": null,
   "metadata": {},
   "outputs": [],
   "source": [
    "statename = str(input('The abbrev. of the state?:   ') or 'IL')  ##e.g., IL or IN\n",
    "statename=str(statename)"
   ]
  },
  {
   "cell_type": "markdown",
   "metadata": {},
   "source": [
    "<font color='red'>**Follow the instructions in between long hashtag marks in the cell below and enter the main plot command and run the cell.**</font>"
   ]
  },
  {
   "cell_type": "code",
   "execution_count": null,
   "metadata": {},
   "outputs": [],
   "source": [
    "###Plot the total cases in a state of your choice\n",
    "\n",
    "state_confirm_cases, state_death_cases = get_state(statename)\n",
    "\n",
    "\n",
    "N1 =  state_confirm_cases.shape[0]   ##N means we are going to plot N bars.\n",
    "ind1 = np.arange(N1)   # generate the x locations for the groups\n",
    "\n",
    "\n",
    "##Make a figure\n",
    "plt.figure(figsize=(20, 6))\n",
    "\n",
    "\n",
    "############################################\n",
    "##Enter your plot command below. Name of data is state_confirm_cases. Use lightseagreen for color\n",
    "##Hint: The inpur value for x-axis is ind1, and the input value for y-axis is state_confirm_cases\n",
    "##For color use color = 'nameofcolor'\n",
    "\n",
    "\n",
    "############################################\n",
    "\n",
    "\n",
    "##Set titles and labels\n",
    "plt.ylabel('State confirmed cases per day', fontsize=20)\n",
    "\n",
    "ind1_xtick = []; state_index_xtick =[]\n",
    "for i in range(len(ind1)):\n",
    "    if i % 5 ==0:\n",
    "        ind1_xtick.append(ind1[i])\n",
    "        state_index_xtick.append(state_confirm_cases.index[i])\n",
    "\n",
    "plt.xticks(ind1_xtick, state_index_xtick, rotation=90, fontsize=15);"
   ]
  },
  {
   "cell_type": "markdown",
   "metadata": {},
   "source": [
    "### Plot Two: Make a bar chart of the total cases per day in a county of your choice\n",
    "**Screenshot your plot and copy/paste it to your answer sheet.**\n",
    "\n",
    "_Note for county names, the first letters must be capitalized as in \"Cook County\"_\n",
    "\n",
    "<font color='blue'>Run the following cell and enter the abbrev. of the state of your choice and the name of the county of your choice. Press Enter/Return after you put in the abbrev. and the county name.</font>"
   ]
  },
  {
   "cell_type": "code",
   "execution_count": null,
   "metadata": {},
   "outputs": [],
   "source": [
    "statename = str(input('The abbrev. of the state?:   ') or 'IL')  ##e.g., IL or IN\n",
    "statename=str(statename)\n",
    "countyname = str(input('The name of the county?:   ') or 'Cook County')  ##e.g., Cook County or Lake County\n",
    "countyname=str(countyname)"
   ]
  },
  {
   "cell_type": "markdown",
   "metadata": {},
   "source": [
    "<font color='red'>**Follow the instructions in between long hashtag marks in the cell below and enter the main plot command and run the cell.**</font>"
   ]
  },
  {
   "cell_type": "code",
   "execution_count": null,
   "metadata": {},
   "outputs": [],
   "source": [
    "###Plot the total cases in a county of your choice\n",
    "\n",
    "county_confirm_cases, county_death_cases = get_county(countyname, statename)\n",
    "\n",
    "\n",
    "N2 =  county_confirm_cases.shape[0]  ##N means we are going to plot N bars.\n",
    "ind2 = np.arange(N2)   # generate the x locations for the groups\n",
    "\n",
    "\n",
    "##Make a figure\n",
    "plt.figure(figsize=(20, 6))\n",
    "\n",
    "\n",
    "###################################################\n",
    "##Choose your colormap here\n",
    "##Generate different colors for each bar\n",
    "##Replace nameofcolormap with the colormap of your choice. Use 'plasma' as the color.\n",
    "\n",
    "my_cmap = cm.get_cmap('nameofcolor')\n",
    "my_norm = Normalize(vmin=0, vmax=N2)\n",
    "\n",
    "\n",
    "##Enter your plot command below. Name of x-axis is ind2 and y-axis data is county_confirm_cases\n",
    "##Use color=my_cmap(my_norm(ind2)).\n",
    "\n",
    "\n",
    "############################################\n",
    "\n",
    "\n",
    "##Set titles and labels\n",
    "plt.ylabel('County confirmed cases per day', fontsize=20)\n",
    "\n",
    "ind2_xtick = []; county_index_xtick =[]\n",
    "for i in range(len(ind2)):\n",
    "    if i % 5 ==0:\n",
    "        ind2_xtick.append(ind2[i])\n",
    "        county_index_xtick.append(county_confirm_cases.index[i])\n",
    "\n",
    "plt.xticks(ind2_xtick, county_index_xtick, rotation=90, fontsize=15);"
   ]
  },
  {
   "cell_type": "markdown",
   "metadata": {},
   "source": [
    "### Plot three: Make a histogram of the distribution of total confirmed cases in different states\n",
    "**Q: Most of the states have less than how many total number of cases in the plot?**\n",
    "**Screenshot your plot and copy/paste it to your answer sheet.**\n",
    "\n",
    "<font color='red'>**Follow the instructions in between long hashtag marks in the cell below and enter the main plot command and run the cell.**</font>"
   ]
  },
  {
   "cell_type": "code",
   "execution_count": null,
   "metadata": {},
   "outputs": [],
   "source": [
    "###Plot the total cases in a county of your choice\n",
    "all_state_confirm_cases, all_state_death_cases = get_case_distribution()\n",
    "\n",
    "\n",
    "##Make a histogram\n",
    "plt.figure(figsize=(20, 6))\n",
    "\n",
    "\n",
    "#############################################\n",
    "##Enter your plot command below. Name of data is all_state_confirm_cases. Use tomato for color\n",
    "##Remember plot histogram only takes one input value.\n",
    "\n",
    "\n",
    "############################################\n",
    "\n",
    "\n",
    "##Set titles and labels\n",
    "plt.xlabel(r'$\\rm{Total\\ number\\ of\\ comfirmed\\ cases\\ in\\ unit\\ of\\ 10^7}$', fontsize=20)\n",
    "plt.ylabel('Count', fontsize=20)"
   ]
  }
 ],
 "metadata": {
  "kernelspec": {
   "display_name": "Python 3",
   "language": "python",
   "name": "python3"
  },
  "language_info": {
   "codemirror_mode": {
    "name": "ipython",
    "version": 3
   },
   "file_extension": ".py",
   "mimetype": "text/x-python",
   "name": "python",
   "nbconvert_exporter": "python",
   "pygments_lexer": "ipython3",
   "version": "3.7.3"
  }
 },
 "nbformat": 4,
 "nbformat_minor": 2
}
