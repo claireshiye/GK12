{
 "cells": [
  {
   "cell_type": "code",
   "execution_count": 136,
   "metadata": {},
   "outputs": [],
   "source": [
    "import numpy as np\n",
    "import matplotlib\n",
    "import matplotlib.pyplot as plt\n",
    "import matplotlib.animation as animation\n",
    "import matplotlib.lines as mlines\n",
    "import itertools\n",
    "\n",
    "%matplotlib notebook"
   ]
  },
  {
   "cell_type": "code",
   "execution_count": 137,
   "metadata": {},
   "outputs": [
    {
     "ename": "IndexError",
     "evalue": "too many indices for array",
     "output_type": "error",
     "traceback": [
      "\u001b[0;31m---------------------------------------------------------------------------\u001b[0m",
      "\u001b[0;31mIndexError\u001b[0m                                Traceback (most recent call last)",
      "\u001b[0;32m<ipython-input-137-9132faa99ebb>\u001b[0m in \u001b[0;36m<module>\u001b[0;34m\u001b[0m\n\u001b[1;32m      1\u001b[0m \u001b[0;31m##Read the simulation outputs\u001b[0m\u001b[0;34m\u001b[0m\u001b[0;34m\u001b[0m\u001b[0;34m\u001b[0m\u001b[0m\n\u001b[1;32m      2\u001b[0m \u001b[0mdata\u001b[0m\u001b[0;34m=\u001b[0m\u001b[0mnp\u001b[0m\u001b[0;34m.\u001b[0m\u001b[0mgenfromtxt\u001b[0m\u001b[0;34m(\u001b[0m\u001b[0;34m'/Users/shiye/Desktop/GK-12/Nbody_2019-05-03-111652/output.dat'\u001b[0m\u001b[0;34m)\u001b[0m\u001b[0;34m\u001b[0m\u001b[0;34m\u001b[0m\u001b[0m\n\u001b[0;32m----> 3\u001b[0;31m \u001b[0mEtot\u001b[0m\u001b[0;34m=\u001b[0m\u001b[0mdata\u001b[0m\u001b[0;34m[\u001b[0m\u001b[0;34m:\u001b[0m\u001b[0;34m,\u001b[0m\u001b[0;36m3\u001b[0m\u001b[0;34m]\u001b[0m\u001b[0;34m;\u001b[0m \u001b[0mt\u001b[0m\u001b[0;34m=\u001b[0m\u001b[0mdata\u001b[0m\u001b[0;34m[\u001b[0m\u001b[0;34m:\u001b[0m\u001b[0;34m,\u001b[0m\u001b[0;36m0\u001b[0m\u001b[0;34m]\u001b[0m\u001b[0;34m\u001b[0m\u001b[0;34m\u001b[0m\u001b[0m\n\u001b[0m\u001b[1;32m      4\u001b[0m \u001b[0;34m\u001b[0m\u001b[0m\n\u001b[1;32m      5\u001b[0m \u001b[0;34m\u001b[0m\u001b[0m\n",
      "\u001b[0;31mIndexError\u001b[0m: too many indices for array"
     ]
    }
   ],
   "source": [
    "##Read the simulation outputs\n",
    "data=np.genfromtxt('/Users/shiye/Desktop/GK-12/Nbody_2019-05-03-111652/output.dat')\n",
    "Etot=data[:,3]; t=data[:,0]\n",
    "\n",
    "\n",
    "##Get the number of particles in the simulation\n",
    "n_particles=int((len(data[0])-4.)/7.)"
   ]
  },
  {
   "cell_type": "code",
   "execution_count": null,
   "metadata": {},
   "outputs": [],
   "source": [
    "##Make the mass, position and velocity names for all the particles\n",
    "numbers=np.arange(n_particles)+1\n",
    "numbers=[str(i) for i in numbers]\n",
    "\n",
    "mass_labels=['m']\n",
    "pos_labels=['x','y','z']\n",
    "vel_labels=['xv','yv','zv']\n",
    "line_labels=['line']\n",
    "dot_labels=['dot']\n",
    "\n",
    "mass_names=map(''.join, itertools.product(numbers, mass_labels))\n",
    "pos_names=map(''.join, itertools.product(numbers, pos_labels))\n",
    "vel_names=map(''.join, itertools.product(numbers, vel_labels))\n",
    "\n",
    "line_names=map(''.join, itertools.product(numbers, line_labels))\n",
    "dot_names=map(''.join, itertools.product(numbers, dot_labels))\n",
    "\n",
    "mass_names=[i[::-1] for i in mass_names]\n",
    "pos_names=[i[::-1] for i in pos_names]\n",
    "vel_names=[i[::-1] for i in vel_names]\n",
    "print(pos_names)\n",
    "\n",
    "line_names=[i[::-1] for i in line_names]\n",
    "dot_names=[i[::-1] for i in dot_names]\n",
    "\n",
    "\n",
    "##Apply values from the outputs to the names\n",
    "for i in range(n_particles):\n",
    "    mass_names[i]=data[0,4+7*i]   ##The initial mass of the particles\n",
    "       \n",
    "    for j in range(3):\n",
    "        pos_names[3*i+j]=data[:,5+7*i+j]\n",
    "        "
   ]
  },
  {
   "cell_type": "code",
   "execution_count": null,
   "metadata": {},
   "outputs": [],
   "source": [
    "def init():\n",
    "    ##initiate lines\n",
    "    for line in lines:\n",
    "        line.set_data([], [])\n",
    "        \n",
    "    ##initiate dots\n",
    "    for dot in dots:\n",
    "        dot.set_data([],[])\n",
    "        \n",
    "    return patches  #return everything that must be updated\n",
    "        \n",
    "        \n",
    "def animate(i):    \n",
    "    ##animate lines\n",
    "    for j,line in enumerate(lines):\n",
    "        line.set_data(pos_names[j*3][:i], pos_names[j*3+1][:i])\n",
    "\n",
    "    #animate rectangles\n",
    "    for j,dot in enumerate(dots):\n",
    "        dot.set_data(pos_names[j*3][i], pos_names[j*3+1][i])        \n",
    "    \n",
    "    return patches  #return everything that must be updated"
   ]
  },
  {
   "cell_type": "code",
   "execution_count": null,
   "metadata": {},
   "outputs": [],
   "source": [
    "##Create animation object\n",
    "def threebody():\n",
    "    anim = animation.FuncAnimation(fig, animate, init_func=init, frames=len(pos_names[0]), interval=1, blit=False)\n",
    "\n",
    "    return anim\n"
   ]
  },
  {
   "cell_type": "code",
   "execution_count": null,
   "metadata": {},
   "outputs": [],
   "source": [
    "##First set up the figure, the axis, and the plot element we want to animate\n",
    "fig=plt.figure()\n",
    "ax=plt.gca()\n",
    "\n",
    "lines = [ax.plot([], [], '-', lw=1.5)[0] for _ in range(n_particles)]  #lines to animate\n",
    "ax.set_prop_cycle(None)\n",
    "dots=[ax.plot([], [], 'o', label=r'$m$'+str(_)+'='+str(mass_names[_]))[0] for _ in range(n_particles)]  #dots to animate\n",
    "\n",
    "patches = lines + dots #things to animate\n",
    "\n",
    "xlimits=[]; ylimits=[]\n",
    "for k in range(n_particles):\n",
    "    xlimits.append(pos_names[k*3])\n",
    "    ylimits.append(pos_names[k*3+1])\n",
    "    \n",
    "xmin=np.min(xlimits); xmax=np.max(xlimits)\n",
    "ymin=np.min(ylimits); ymax=np.max(ylimits)\n",
    "\n",
    "ax.set_xlabel(r'$X$')\n",
    "ax.set_ylabel(r'$Y$')\n",
    "ax.set_title('N-Body Interaction')\n",
    "ax.set_xlim(xmin, xmax)\n",
    "ax.set_ylim(ymin, ymax)\n",
    "ax.legend(loc='best', prop={'size': 12}, frameon=True, numpoints=1)\n",
    "\n",
    "\n",
    "##Plot the animation of N-body interaction\n",
    "threebody()"
   ]
  },
  {
   "cell_type": "code",
   "execution_count": null,
   "metadata": {},
   "outputs": [],
   "source": [
    "fig=plt.figure()\n",
    "ax=plt.gca()\n",
    "ax.scatter(t, Etot)\n",
    "ax.set_xlabel('Time')\n",
    "ax.set_ylabel('Total Energy')"
   ]
  }
 ],
 "metadata": {
  "kernelspec": {
   "display_name": "Python 3",
   "language": "python",
   "name": "python3"
  },
  "language_info": {
   "codemirror_mode": {
    "name": "ipython",
    "version": 3
   },
   "file_extension": ".py",
   "mimetype": "text/x-python",
   "name": "python",
   "nbconvert_exporter": "python",
   "pygments_lexer": "ipython3",
   "version": "3.7.3"
  }
 },
 "nbformat": 4,
 "nbformat_minor": 2
}
